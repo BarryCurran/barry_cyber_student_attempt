{
 "cells": [
  {
   "cell_type": "code",
   "execution_count": 106,
   "id": "dfc19408",
   "metadata": {},
   "outputs": [],
   "source": [
    "from cryptography.hazmat.backends import default_backend\n",
    "from cryptography.hazmat.primitives import hashes\n",
    "from cryptography.hazmat.primitives.kdf.pbkdf2 import PBKDF2HMAC\n",
    "from tornado.escape import json_decode\n",
    "from tornado.gen import coroutine\n",
    "from cryptography.hazmat.primitives.kdf.scrypt import Scrypt\n",
    "import os\n",
    "from cryptography.hazmat.primitives.ciphers import Cipher, algorithms, modes\n",
    "import base64"
   ]
  },
  {
   "cell_type": "code",
   "execution_count": 107,
   "id": "9027c39c",
   "metadata": {},
   "outputs": [],
   "source": [
    "def encrypt_object(object, password):\n",
    "    nonce_bytes = os.urandom(16)\n",
    "    print(nonce_bytes)\n",
    "    salt = os.urandom(16)\n",
    "    print(salt)\n",
    "    kdf = PBKDF2HMAC (\n",
    "        algorithm=hashes.SHA256(),\n",
    "        length=24,\n",
    "        salt=salt,\n",
    "        iterations=100000,\n",
    "        backend=default_backend()\n",
    "    )\n",
    "    password_bytes = bytes(password, 'utf-8')\n",
    "    key = base64.urlsafe_b64encode(kdf.derive(password_bytes))\n",
    "    aes_ctr_cipher = Cipher(algorithms.AES(key), mode=modes.CTR(nonce_bytes))\n",
    "    aes_ctr_encryptor = aes_ctr_cipher.encryptor()\n",
    "    object_bytes = bytes(object, \"utf-8\")\n",
    "    encrypted_object = aes_ctr_encryptor.update(object_bytes)\n",
    "    return encrypted_object, nonce_bytes, salt"
   ]
  },
  {
   "cell_type": "code",
   "execution_count": 108,
   "id": "23be7ae6",
   "metadata": {},
   "outputs": [],
   "source": [
    "def hash_password(password):\n",
    "    password_salt = os.urandom(16)\n",
    "    kdf = Scrypt(salt=password_salt, length=32, n=2 ** 14, r=8, p=1)\n",
    "    password_bytes = bytes(password, \"utf-8\")\n",
    "    password_object = kdf.derive(password_bytes)\n",
    "    key = str(password_object)\n",
    "    return key, password_salt"
   ]
  },
  {
   "cell_type": "code",
   "execution_count": 109,
   "id": "d2882691",
   "metadata": {},
   "outputs": [],
   "source": [
    "email = 'test@barry.com'\n",
    "password = 'password'"
   ]
  },
  {
   "cell_type": "code",
   "execution_count": 110,
   "id": "bcb94e63",
   "metadata": {},
   "outputs": [
    {
     "name": "stdout",
     "output_type": "stream",
     "text": [
      "b'\\xde^\\x82\\xb5CLq\\r\\x81\\x003/\\xab\\xd8?L5\\xb6\\x91Tm\\x1b-\\x99q\\xc4\\xcby\\x88\\xfe\\xfa\\x9c'\n",
      "b'\\x8a\\xef\\n\\xa0\\x1d L\\x17\\xa8j\\xf4c\\x08\\x81\\xc4\\xdf'\n"
     ]
    }
   ],
   "source": [
    "hashed_password, pw_salt = hash_password(password)\n",
    "print(hashed_password)\n",
    "print(pw_salt)"
   ]
  },
  {
   "cell_type": "code",
   "execution_count": 89,
   "id": "a3e96d9d",
   "metadata": {},
   "outputs": [],
   "source": [
    "# hashed_password_bytes = bytes(hashed_password, \"utf-8\")"
   ]
  },
  {
   "cell_type": "code",
   "execution_count": 111,
   "id": "697edf9c",
   "metadata": {
    "scrolled": true
   },
   "outputs": [
    {
     "name": "stdout",
     "output_type": "stream",
     "text": [
      "b';* \\xe6\\xb5h\\xfe$X9\\xa27\"\\xe8\\x98\\xb9'\n",
      "b\"\\xe9jb\\xecj\\xefz'\\xc2\\xf9\\xe9\\xf6yM@/\"\n"
     ]
    }
   ],
   "source": [
    "encrypted_email, enonce, esalt = encrypt_object(email, hashed_password)"
   ]
  },
  {
   "cell_type": "code",
   "execution_count": 112,
   "id": "fe790a6e",
   "metadata": {},
   "outputs": [
    {
     "name": "stdout",
     "output_type": "stream",
     "text": [
      "b'\\xaf\\xcd5Z&\\n.\\x10\\xfe\\x86x)\\xac^'\n",
      "b';* \\xe6\\xb5h\\xfe$X9\\xa27\"\\xe8\\x98\\xb9'\n",
      "b\"\\xe9jb\\xecj\\xefz'\\xc2\\xf9\\xe9\\xf6yM@/\"\n"
     ]
    }
   ],
   "source": [
    "print(encrypted_email)\n",
    "print(enonce)\n",
    "print(esalt)"
   ]
  },
  {
   "cell_type": "code",
   "execution_count": 113,
   "id": "b796c948",
   "metadata": {},
   "outputs": [
    {
     "data": {
      "text/plain": [
       "bytes"
      ]
     },
     "execution_count": 113,
     "metadata": {},
     "output_type": "execute_result"
    }
   ],
   "source": [
    "type(encrypted_email)"
   ]
  },
  {
   "cell_type": "code",
   "execution_count": 105,
   "id": "ed57503e",
   "metadata": {},
   "outputs": [
    {
     "ename": "TypeError",
     "evalue": "encoding without a string argument",
     "output_type": "error",
     "traceback": [
      "\u001b[1;31m---------------------------------------------------------------------------\u001b[0m",
      "\u001b[1;31mTypeError\u001b[0m                                 Traceback (most recent call last)",
      "Input \u001b[1;32mIn [105]\u001b[0m, in \u001b[0;36m<cell line: 1>\u001b[1;34m()\u001b[0m\n\u001b[1;32m----> 1\u001b[0m emailBytes \u001b[38;5;241m=\u001b[39m \u001b[38;5;28;43mbytes\u001b[39;49m\u001b[43m(\u001b[49m\u001b[43mencrypted_email\u001b[49m\u001b[43m,\u001b[49m\u001b[43m \u001b[49m\u001b[38;5;124;43m'\u001b[39;49m\u001b[38;5;124;43mutf-8\u001b[39;49m\u001b[38;5;124;43m'\u001b[39;49m\u001b[43m)\u001b[49m\n",
      "\u001b[1;31mTypeError\u001b[0m: encoding without a string argument"
     ]
    }
   ],
   "source": [
    "emailBytes = bytes(encrypted_email, 'utf-8')"
   ]
  },
  {
   "cell_type": "code",
   "execution_count": 114,
   "id": "ccef2ab9",
   "metadata": {},
   "outputs": [],
   "source": [
    "def decrypt_object(object, password, nonce, salt):\n",
    "    kdf = PBKDF2HMAC(\n",
    "        algorithm=hashes.SHA256(),\n",
    "        length=24,\n",
    "        salt=salt,\n",
    "        iterations=100000,\n",
    "        backend=default_backend()\n",
    "    )\n",
    "    password_bytes = bytes(password, 'utf-8')\n",
    "    key = base64.urlsafe_b64encode(kdf.derive(password_bytes))\n",
    "    aes_ctr_cipher = Cipher(algorithms.AES(key), mode=modes.CTR(nonce))\n",
    "    aes_ctr_decryptor = aes_ctr_cipher.decryptor()\n",
    "    decrypted_object = aes_ctr_decryptor.update(object)\n",
    "    return decrypted_object"
   ]
  },
  {
   "cell_type": "code",
   "execution_count": 115,
   "id": "a0749ae1",
   "metadata": {},
   "outputs": [],
   "source": [
    "descrypted_email = decrypt_object(b'\\xaf\\xcd5Z&\\n.\\x10\\xfe\\x86x)\\xac^', hashed_password, b';* \\xe6\\xb5h\\xfe$X9\\xa27\"\\xe8\\x98\\xb9', b\"\\xe9jb\\xecj\\xefz'\\xc2\\xf9\\xe9\\xf6yM@/\")"
   ]
  },
  {
   "cell_type": "code",
   "execution_count": 116,
   "id": "08172edb",
   "metadata": {},
   "outputs": [
    {
     "data": {
      "text/plain": [
       "b'test@barry.com'"
      ]
     },
     "execution_count": 116,
     "metadata": {},
     "output_type": "execute_result"
    }
   ],
   "source": [
    "descrypted_email"
   ]
  },
  {
   "cell_type": "code",
   "execution_count": 65,
   "id": "55a44e4a",
   "metadata": {},
   "outputs": [],
   "source": [
    "descrypted_email = descrypted_email.decode(\"utf-8\")"
   ]
  },
  {
   "cell_type": "code",
   "execution_count": 66,
   "id": "39dafb9c",
   "metadata": {},
   "outputs": [
    {
     "data": {
      "text/plain": [
       "'test@barry.com'"
      ]
     },
     "execution_count": 66,
     "metadata": {},
     "output_type": "execute_result"
    }
   ],
   "source": [
    "descrypted_email"
   ]
  },
  {
   "cell_type": "code",
   "execution_count": 67,
   "id": "835a5bf8",
   "metadata": {},
   "outputs": [
    {
     "data": {
      "text/plain": [
       "16384"
      ]
     },
     "execution_count": 67,
     "metadata": {},
     "output_type": "execute_result"
    }
   ],
   "source": [
    "2 ** 14"
   ]
  },
  {
   "cell_type": "code",
   "execution_count": null,
   "id": "d2877e13",
   "metadata": {},
   "outputs": [],
   "source": []
  }
 ],
 "metadata": {
  "kernelspec": {
   "display_name": "Python 3 (ipykernel)",
   "language": "python",
   "name": "python3"
  },
  "language_info": {
   "codemirror_mode": {
    "name": "ipython",
    "version": 3
   },
   "file_extension": ".py",
   "mimetype": "text/x-python",
   "name": "python",
   "nbconvert_exporter": "python",
   "pygments_lexer": "ipython3",
   "version": "3.9.12"
  }
 },
 "nbformat": 4,
 "nbformat_minor": 5
}
